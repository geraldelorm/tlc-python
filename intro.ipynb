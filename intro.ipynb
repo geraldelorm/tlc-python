{
 "cells": [
  {
   "cell_type": "code",
   "execution_count": 5,
   "id": "eda311ca",
   "metadata": {},
   "outputs": [
    {
     "name": "stdout",
     "output_type": "stream",
     "text": [
      "Enter a number: 3\n",
      "3 id odd\n"
     ]
    }
   ],
   "source": [
    "num = int(input( 'Enter a number: '))\n",
    "if num % 2 == 0:\n",
    "    print(num , \"is even\")\n",
    "else:\n",
    "    print(num , \"is odd\")"
   ]
  },
  {
   "cell_type": "code",
   "execution_count": 2,
   "id": "f0d2ab96",
   "metadata": {},
   "outputs": [
    {
     "name": "stdout",
     "output_type": "stream",
     "text": [
      "Gerald\n",
      "100\n",
      "Gerald 100\n"
     ]
    }
   ],
   "source": [
    "name = \"Gerald\"\n",
    "age = 100\n",
    "\n",
    "print(name)\n",
    "print(age)\n",
    "\n",
    "both = name + \" \" + str(age)\n",
    "print(both)"
   ]
  },
  {
   "cell_type": "code",
   "execution_count": 18,
   "id": "55403cb0",
   "metadata": {},
   "outputs": [
    {
     "name": "stdout",
     "output_type": "stream",
     "text": [
      "Guess a random number between 1 and 20: 1\n",
      "Guess a random number between 1 and 20: 2\n",
      "Guess a random number between 1 and 20: 3\n",
      "Guess a random number between 1 and 20: 4\n",
      "You guessed right\n"
     ]
    }
   ],
   "source": [
    "import random\n",
    "ran = random.randint(1,10)\n",
    "num = 0\n",
    "whileran != num :\n",
    "    num = int(input( 'Guess a random number between 1 and 20: '))\n",
    "    \n",
    "print(\"You guessed right\")"
   ]
  },
  {
   "cell_type": "code",
   "execution_count": 5,
   "id": "0e838e18",
   "metadata": {
    "scrolled": true
   },
   "outputs": [
    {
     "name": "stdout",
     "output_type": "stream",
     "text": [
      "2\n",
      "4\n",
      "6\n",
      "8\n",
      "--------------\n",
      "2\n",
      "4\n",
      "6\n",
      "8\n",
      "10\n"
     ]
    }
   ],
   "source": [
    "list1 = [1,2,3,4,5,6,7,8,9]\n",
    "for item in list1:\n",
    "    if item % 2 == 0:\n",
    "        print(item)\n",
    "    \n",
    "print(\"--------------\")\n",
    "\n",
    "tuple1 = (2,4,6,8,10)\n",
    "for tup in tuple1:\n",
    "    if tup % 2 == 0:\n",
    "        print(tup)\n"
   ]
  },
  {
   "cell_type": "code",
   "execution_count": 11,
   "id": "bda2d45e",
   "metadata": {
    "scrolled": true
   },
   "outputs": [
    {
     "name": "stdout",
     "output_type": "stream",
     "text": [
      "Enter your age : 50\n",
      "1275 years\n",
      "15300 months\n",
      "459000 days\n",
      "11016000 hours\n"
     ]
    }
   ],
   "source": [
    "year = int(input(\"Enter your age : \"))\n",
    "\n",
    "sum_age = 0\n",
    "while year:\n",
    "    sum_age = sum_age + year\n",
    "    year = year - 1\n",
    "\n",
    "print(str(sum_age) + \" years\")\n",
    "print(str((sum_age * 12)) + \" months\")\n",
    "print(str(((sum_age * 12)*30)) + \" days\")\n",
    "print(str((((sum_age * 12)*30)*24)) + \" hours\")"
   ]
  },
  {
   "cell_type": "code",
   "execution_count": null,
   "id": "4a2986c1",
   "metadata": {},
   "outputs": [],
   "source": []
  }
 ],
 "metadata": {
  "kernelspec": {
   "display_name": "Python 3 (ipykernel)",
   "language": "python",
   "name": "python3"
  },
  "language_info": {
   "codemirror_mode": {
    "name": "ipython",
    "version": 3
   },
   "file_extension": ".py",
   "mimetype": "text/x-python",
   "name": "python",
   "nbconvert_exporter": "python",
   "pygments_lexer": "ipython3",
   "version": "3.8.8"
  }
 },
 "nbformat": 4,
 "nbformat_minor": 5
}
