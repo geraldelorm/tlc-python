{
 "cells": [
  {
   "cell_type": "code",
   "execution_count": 20,
   "id": "23d73c96",
   "metadata": {},
   "outputs": [
    {
     "name": "stdout",
     "output_type": "stream",
     "text": [
      "10\n",
      "11\n",
      "['a', 'b', '!!!']\n"
     ]
    }
   ],
   "source": [
    "def inc(x):\n",
    "    return x+1\n",
    "\n",
    "x=10\n",
    "t=inc(x)\n",
    "print(x)\n",
    "print(t)\n",
    " \n",
    "    \n",
    "def f1(list1):\n",
    "    list1.append(\"!!!\")\n",
    "    return list1\n",
    "    \n",
    "li=['a','b']\n",
    "print(f1(li))"
   ]
  },
  {
   "cell_type": "code",
   "execution_count": 18,
   "id": "6fe4b82e",
   "metadata": {},
   "outputs": [
    {
     "name": "stdout",
     "output_type": "stream",
     "text": [
      "[5, 1, 2, 3, 4]\n"
     ]
    }
   ],
   "source": [
    "def move(list2):\n",
    "    last = list2.pop()\n",
    "    list2.insert(0, last)\n",
    "    return list2\n",
    "\n",
    "list1 = [1, 2, 3, 4, 5]\n",
    "print(move(list1))\n"
   ]
  },
  {
   "cell_type": "code",
   "execution_count": 22,
   "id": "a0741235",
   "metadata": {},
   "outputs": [
    {
     "name": "stdout",
     "output_type": "stream",
     "text": [
      "('b', 'a', 'e')\n"
     ]
    }
   ],
   "source": [
    "def tupleGen(list1,indices):\n",
    "    count = 0\n",
    "    tup = ()\n",
    "    while count < len(indices):\n",
    "        tup = tup + tuple(list1[indices[count]])\n",
    "        count = count + 1\n",
    "    return tup\n",
    "        \n",
    "o=['a','b','c','d','e']\n",
    "indices=[1,0,4]\n",
    "print(tupleGen(o, indices))    "
   ]
  },
  {
   "cell_type": "code",
   "execution_count": 3,
   "id": "0d976b3d",
   "metadata": {},
   "outputs": [
    {
     "name": "stdout",
     "output_type": "stream",
     "text": [
      "{'one': 0, 'two': 1, 'three': 2}\n"
     ]
    }
   ],
   "source": [
    "def dicGen(params):\n",
    "    dic = {}\n",
    "    count = 0\n",
    "    while count < len(params):\n",
    "        dic[params[count]]=count\n",
    "        count += 1\n",
    "    return dic\n",
    "    \n",
    "p = ['one', 'two', 'three']\n",
    "print(dicGen(p))\n",
    "    "
   ]
  },
  {
   "cell_type": "code",
   "execution_count": 6,
   "id": "3767633e",
   "metadata": {},
   "outputs": [
    {
     "name": "stdout",
     "output_type": "stream",
     "text": [
      "11\n"
     ]
    }
   ],
   "source": [
    "def accum(init, tup):\n",
    "    total = init\n",
    "    for t in tup:\n",
    "        total += t\n",
    "    return total\n",
    "\n",
    "\n",
    "test = accum(2, (1,3,5))\n",
    "print(test)"
   ]
  },
  {
   "cell_type": "code",
   "execution_count": 13,
   "id": "c7413b3e",
   "metadata": {},
   "outputs": [
    {
     "name": "stdout",
     "output_type": "stream",
     "text": [
      "0 + 1 = 1\n",
      "1 + 1 = 2\n",
      "1 + 2 = 3\n",
      "2 + 3 = 5\n",
      "3 + 5 = 8\n",
      "5 + 8 = 13\n",
      "8 + 13 = 21\n",
      "13 + 21 = 34\n",
      "21 + 34 = 55\n",
      "34 + 55 = 89\n",
      "------\n",
      "Fib List\n",
      "[0, 1, 1, 2, 3, 5, 8, 13, 21, 34]\n"
     ]
    }
   ],
   "source": [
    "def fib(num):\n",
    "    n1 = 0\n",
    "    n2 = 1\n",
    "    count = 0\n",
    "    nth = 0\n",
    "    fibList = []\n",
    "    while count < num:\n",
    "        nth = n1 + n2\n",
    "        print (str(n1) + \" + \" + str(n2) + \" = \" + str(nth))\n",
    "        fibList.append(n1)\n",
    "        n1 = n2 \n",
    "        n2 = nth\n",
    "        count += 1\n",
    "        \n",
    "    return fibList\n",
    "        \n",
    "fList = fib(10)\n",
    "print(\"------\")\n",
    "print(\"Fib List\")\n",
    "print(fList)"
   ]
  },
  {
   "cell_type": "code",
   "execution_count": null,
   "id": "2785dcb9",
   "metadata": {},
   "outputs": [],
   "source": []
  }
 ],
 "metadata": {
  "kernelspec": {
   "display_name": "Python 3 (ipykernel)",
   "language": "python",
   "name": "python3"
  },
  "language_info": {
   "codemirror_mode": {
    "name": "ipython",
    "version": 3
   },
   "file_extension": ".py",
   "mimetype": "text/x-python",
   "name": "python",
   "nbconvert_exporter": "python",
   "pygments_lexer": "ipython3",
   "version": "3.8.8"
  }
 },
 "nbformat": 4,
 "nbformat_minor": 5
}
