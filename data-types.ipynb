{
 "cells": [
  {
   "cell_type": "code",
   "execution_count": 2,
   "id": "43a6af6f",
   "metadata": {},
   "outputs": [
    {
     "name": "stdout",
     "output_type": "stream",
     "text": [
      "<class 'int'>\n",
      "<class 'int'>\n",
      "<class 'str'>\n",
      "<class 'complex'>\n",
      "<class 'int'>\n",
      "<class 'list'>\n",
      "<class 'NoneType'>\n"
     ]
    }
   ],
   "source": [
    "print(type(5))\n",
    "print(type(5000 * 50000000))\n",
    "print(type('j'))\n",
    "print(type(1j))\n",
    "print(type(1,))\n",
    "print(type([1]))\n",
    "print(type(None))"
   ]
  },
  {
   "cell_type": "code",
   "execution_count": 9,
   "id": "f07bac83",
   "metadata": {},
   "outputs": [
    {
     "name": "stdout",
     "output_type": "stream",
     "text": [
      "0.30000000000000004\n",
      "0.3\n"
     ]
    }
   ],
   "source": [
    "from decimal import *\n",
    "\n",
    "val = 0.1 + 0.1 + 0.1\n",
    "print(val)\n",
    "#     0.300000000000004\n",
    "\n",
    "val2 = Decimal(\".1\") + Decimal(\".1\") + Decimal(\".1\")\n",
    "print(val2)\n",
    "#     0.3"
   ]
  },
  {
   "cell_type": "code",
   "execution_count": 34,
   "id": "f3281d0a",
   "metadata": {
    "scrolled": true
   },
   "outputs": [
    {
     "name": "stdout",
     "output_type": "stream",
     "text": [
      "0 + 1 = 1\n",
      "1 + 1 = 2\n",
      "1 + 2 = 3\n",
      "2 + 3 = 5\n",
      "3 + 5 = 8\n",
      "5 + 8 = 13\n",
      "8 + 13 = 21\n",
      "13 + 21 = 34\n",
      "21 + 34 = 55\n",
      "34 + 55 = 89\n",
      "55 + 89 = 144\n",
      "89 + 144 = 233\n",
      "144 + 233 = 377\n",
      "233 + 377 = 610\n",
      "377 + 610 = 987\n",
      "610 + 987 = 1597\n",
      "987 + 1597 = 2584\n",
      "1597 + 2584 = 4181\n",
      "2584 + 4181 = 6765\n",
      "4181 + 6765 = 10946\n"
     ]
    }
   ],
   "source": [
    "n1 = 0\n",
    "n2 = 1\n",
    "count = 0\n",
    "nth = 0\n",
    "while count < 20:\n",
    "    nth = n1 + n2\n",
    "    print (str(n1) + \" + \" + str(n2) + \" = \" + str(nth))\n",
    "\n",
    "    n1 = n2 \n",
    "    n2 = nth\n",
    "    \n",
    "    count += 1"
   ]
  },
  {
   "cell_type": "code",
   "execution_count": 3,
   "id": "a6794951",
   "metadata": {},
   "outputs": [
    {
     "name": "stdout",
     "output_type": "stream",
     "text": [
      "d\n",
      "G:e:r:a:l:d:"
     ]
    }
   ],
   "source": [
    "name = \"Gerald\"\n",
    "print(name[-1])\n",
    "for char in name:\n",
    "    print(char, end=\":\")"
   ]
  },
  {
   "cell_type": "code",
   "execution_count": 4,
   "id": "a6bfb383",
   "metadata": {
    "scrolled": true
   },
   "outputs": [
    {
     "name": "stdout",
     "output_type": "stream",
     "text": [
      "Enter a number in range of 1 and 8: 8\n",
      "Enter a number in range of 1 and 8: 5\n",
      "Enter a number in range of 1 and 8: 5\n",
      "Enter a number in range of 1 and 8: 8\n",
      "Enter a number in range of 1 and 8: 2\n",
      "Enter a number in range of 1 and 8: 6\n",
      "Enter a number in range of 1 and 8: 97\n",
      "Invalid Number, Try Again: 5\n",
      "Enter a number in range of 1 and 8: 7\n",
      "Enter a number in range of 1 and 8: 3\n",
      "Enter a number in range of 1 and 8: 5\n",
      "Enter a number in range of 1 and 8: 6\n",
      "[8, 5, 5, 8, 2, 6, 7, 3, 5, 6]\n",
      "3\n"
     ]
    }
   ],
   "source": [
    "# num = input('Enter 10 number in range 1 to 8: ')\n",
    "# numArr = num.split()\n",
    "# print(numArr)\n",
    "# countNum5 = numArr.count(\"5\")\n",
    "# print(countNum5)\n",
    "\n",
    "myList = []\n",
    "while(len(myList) < 10):\n",
    "    num = int(input(\"Enter a number in range of 1 and 8: \"))\n",
    "    if num not in range(1, 9):\n",
    "        num = int(input(\"Invalid Number, Try Again: \"))\n",
    "    else:\n",
    "        myList.append(num)\n",
    "        \n",
    "print(myList)\n",
    "print(myList.count(5))\n"
   ]
  },
  {
   "cell_type": "code",
   "execution_count": 65,
   "id": "823a788c",
   "metadata": {},
   "outputs": [
    {
     "name": "stdout",
     "output_type": "stream",
     "text": [
      "[1, 4, 9, 16, 25]\n",
      "[1, 9, 25]\n"
     ]
    }
   ],
   "source": [
    "list2 = [1, 4, 9, 16, 25]\n",
    "\n",
    "# list3 = list(filter(lambda x: (x % 2 != 0), list2))\n",
    "\n",
    "list4 = [el for el in list2 if (el % 2 != 0)]\n",
    "print(list2)\n",
    "# print(list3)\n",
    "print(list4)"
   ]
  },
  {
   "cell_type": "code",
   "execution_count": null,
   "id": "7d7ff05d",
   "metadata": {},
   "outputs": [],
   "source": []
  }
 ],
 "metadata": {
  "kernelspec": {
   "display_name": "Python 3 (ipykernel)",
   "language": "python",
   "name": "python3"
  },
  "language_info": {
   "codemirror_mode": {
    "name": "ipython",
    "version": 3
   },
   "file_extension": ".py",
   "mimetype": "text/x-python",
   "name": "python",
   "nbconvert_exporter": "python",
   "pygments_lexer": "ipython3",
   "version": "3.8.8"
  }
 },
 "nbformat": 4,
 "nbformat_minor": 5
}
