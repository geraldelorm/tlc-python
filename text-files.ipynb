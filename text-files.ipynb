{
 "cells": [
  {
   "cell_type": "code",
   "execution_count": 9,
   "id": "11bcf173",
   "metadata": {},
   "outputs": [
    {
     "name": "stdout",
     "output_type": "stream",
     "text": [
      "Enter Something: end agin\n",
      "Enter Something: end now\n",
      "Enter Something: end\n",
      "0 : okayletsgetgoingendlets write\n",
      "1 : this goes on a new line\n",
      "2 : end\n",
      "3 : end\n",
      "4 : end\n",
      "5 : end\n",
      "6 : end agin\n",
      "7 : end now\n",
      "8 : end\n"
     ]
    }
   ],
   "source": [
    "file = open('text.txt', 'a') \n",
    "userInput = \"\"\n",
    "while userInput != \"end\":\n",
    "    userInput = input(\"Enter Something: \")\n",
    "    file.write(userInput + '\\n')\n",
    "file.close()\n",
    "\n",
    "i = 0\n",
    "file = open('text.txt', 'r')\n",
    "for line in file:\n",
    "    print(i, \":\", line , end = '')  \n",
    "    i += 1"
   ]
  },
  {
   "cell_type": "code",
   "execution_count": null,
   "id": "dd42e034",
   "metadata": {},
   "outputs": [],
   "source": []
  }
 ],
 "metadata": {
  "kernelspec": {
   "display_name": "Python 3 (ipykernel)",
   "language": "python",
   "name": "python3"
  },
  "language_info": {
   "codemirror_mode": {
    "name": "ipython",
    "version": 3
   },
   "file_extension": ".py",
   "mimetype": "text/x-python",
   "name": "python",
   "nbconvert_exporter": "python",
   "pygments_lexer": "ipython3",
   "version": "3.8.8"
  }
 },
 "nbformat": 4,
 "nbformat_minor": 5
}
